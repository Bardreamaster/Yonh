{
 "cells": [
  {
   "cell_type": "code",
   "execution_count": 74,
   "metadata": {},
   "outputs": [],
   "source": [
    "from asystmachine.controller import run_controller\n",
    "from asystmachine.joint import get_joints\n",
    "#address = '10.20.48.159:7000'\n",
    "address = 'bardreamaster.xyz:6096'\n",
    "\n",
    "def print_joint_option(option):\n",
    "    print(f\"\\tName: {option.name}\")\n",
    "    print(f\"\\tMax Velocity: {option.max_velocity} mm/s\")\n",
    "    print(f\"\\tMax Acceleration: {option.max_acceleration} mm/s^2\")\n",
    "    print(f\"\\tLimit: min {option.limit.min} mm  max {option.limit.max} mm\")\n",
    "\n",
    "def print_joint_status(status):\n",
    "    print(f\"\\tPosition: {status.position} mm\")\n",
    "    print(f\"\\tVelocity: {status.velocity} mm/s\")\n",
    "    print(f\"\\tTorque load: {status.torque} %\")\n",
    "    enable_string = (\"Enable\" if status.is_enable else \"Disable\")\n",
    "    print(f\"\\t[{enable_string}]\")\n"
   ]
  },
  {
   "cell_type": "markdown",
   "metadata": {},
   "source": [
    "# Get Joint List\n",
    "\n",
    "Get available joints and check their options\n"
   ]
  },
  {
   "cell_type": "code",
   "execution_count": 75,
   "metadata": {
    "scrolled": true
   },
   "outputs": [
    {
     "name": "stdout",
     "output_type": "stream",
     "text": [
      "0 ID: 0\n",
      "\tName: New name\n",
      "\tMax Velocity: 500.0 mm/s\n",
      "\tMax Acceleration: 1000.0 mm/s^2\n",
      "\tLimit: min -150.0 mm  max 150.0 mm\n",
      "1 ID: 1\n",
      "\tName: New name\n",
      "\tMax Velocity: 500.0 mm/s\n",
      "\tMax Acceleration: 1000.0 mm/s^2\n",
      "\tLimit: min -300.0 mm  max 0.0 mm\n",
      "2 ID: 2\n",
      "\tName: New name\n",
      "\tMax Velocity: 500.0 mm/s\n",
      "\tMax Acceleration: 1000.0 mm/s^2\n",
      "\tLimit: min -150.0 mm  max 150.0 mm\n"
     ]
    }
   ],
   "source": [
    "with run_controller(address) as ctl:\n",
    "    joints = get_joints()\n",
    "    for index,j in enumerate(joints):\n",
    "        option = j.get_option()\n",
    "        print(f\"{index} ID: {j.id}\")\n",
    "        print_joint_option(option)"
   ]
  },
  {
   "cell_type": "markdown",
   "metadata": {},
   "source": [
    "# Update Joint Option"
   ]
  },
  {
   "cell_type": "code",
   "execution_count": 55,
   "metadata": {},
   "outputs": [
    {
     "name": "stdout",
     "output_type": "stream",
     "text": [
      "Old options of Joint[2]\n",
      "\tName: New name\n",
      "\tMax Velocity: 500.0 mm/s\n",
      "\tMax Acceleration: 1000.0 mm/s^2\n",
      "\tLimit: min -150.60468749999998 mm  max 149.39531250000002 mm\n",
      "New options of Joint[2]\n",
      "\tName: New name\n",
      "\tMax Velocity: 500.0 mm/s\n",
      "\tMax Acceleration: 1000.0 mm/s^2\n",
      "\tLimit: min -150.0 mm  max 150.0 mm\n"
     ]
    }
   ],
   "source": [
    "with run_controller(address) as ctl:\n",
    "    joint = get_joints()[2]\n",
    "\n",
    "    option = joint.get_option()\n",
    "    print(f\"Old options of Joint[{joint.id}]\")\n",
    "    print_joint_option(option)\n",
    "    \n",
    "    # change the joint name\n",
    "    option.name = \"New name\"\n",
    "    option.max_velocity = 500\n",
    "    option.max_acceleration = 1000\n",
    "    option.limit.min = -150\n",
    "    option.limit.max = 150\n",
    "    joint.set_option(option)\n",
    "\n",
    "    new_option = joint.get_option()\n",
    "    print(f\"New options of Joint[{joint.id}]\")\n",
    "    print_joint_option(new_option)"
   ]
  },
  {
   "cell_type": "markdown",
   "metadata": {},
   "source": [
    "# Get Joint Status"
   ]
  },
  {
   "cell_type": "code",
   "execution_count": 37,
   "metadata": {},
   "outputs": [
    {
     "name": "stdout",
     "output_type": "stream",
     "text": [
      "0 ID: 0 Name: Panda-H2 CPM-SCHP-2311P-EQNA-1-7-D\n",
      "\tPosition: 119.14687499999991 mm\n",
      "\tVelocity: 0.0 mm/s\n",
      "\tTorque load: 0.0 %\n",
      "\t[Disable]\n",
      "1 ID: 1 Name: Panda-V CPM-SCHP-2311P-EQNA-1-7-D\n",
      "\tPosition: -0.02812500000000001 mm\n",
      "\tVelocity: 0.0 mm/s\n",
      "\tTorque load: -0.030515715593530668 %\n",
      "\t[Disable]\n",
      "2 ID: 2 Name: New name\n",
      "\tPosition: 99.99843750000001 mm\n",
      "\tVelocity: 0.0 mm/s\n",
      "\tTorque load: -0.6103143118706134 %\n",
      "\t[Disable]\n"
     ]
    }
   ],
   "source": [
    "with run_controller(address) as ctl:\n",
    "    joints = get_joints()\n",
    "    for index,j in enumerate(joints):\n",
    "        option = j.get_option()\n",
    "        status = j.get_status()\n",
    "        print(f\"{index} ID: {j.id} Name: {option.name}\")\n",
    "        print_joint_status(status)"
   ]
  },
  {
   "cell_type": "markdown",
   "metadata": {},
   "source": [
    "# Enable and Disable Joints"
   ]
  },
  {
   "cell_type": "markdown",
   "metadata": {},
   "source": [
    "## Enable all joints"
   ]
  },
  {
   "cell_type": "code",
   "execution_count": 47,
   "metadata": {},
   "outputs": [],
   "source": [
    "with run_controller(address) as ctl:\n",
    "    joints = get_joints()\n",
    "    for j in joints:\n",
    "        j.enable()"
   ]
  },
  {
   "cell_type": "markdown",
   "metadata": {},
   "source": [
    "## Disable all joints"
   ]
  },
  {
   "cell_type": "code",
   "execution_count": 46,
   "metadata": {},
   "outputs": [],
   "source": [
    "with run_controller(address) as ctl:\n",
    "    joints = get_joints()\n",
    "    for j in joints:\n",
    "        j.disable()"
   ]
  },
  {
   "cell_type": "markdown",
   "metadata": {},
   "source": [
    "# Set Joint Origin\n",
    "\n",
    "Set current position as origin\n"
   ]
  },
  {
   "cell_type": "code",
   "execution_count": 58,
   "metadata": {},
   "outputs": [],
   "source": [
    "with run_controller(address) as ctl:\n",
    "    joints = get_joints()\n",
    "    for j in joints:\n",
    "        j.set_origin()"
   ]
  },
  {
   "cell_type": "markdown",
   "metadata": {},
   "source": [
    "# Move on Position Mode"
   ]
  },
  {
   "cell_type": "code",
   "execution_count": 59,
   "metadata": {},
   "outputs": [],
   "source": [
    "import time\n",
    "with run_controller(address) as ctl:\n",
    "    joint = get_joints()[2]\n",
    "    joint.enable()\n",
    "    joint.go_position(100)"
   ]
  },
  {
   "cell_type": "code",
   "execution_count": 55,
   "metadata": {},
   "outputs": [],
   "source": [
    "import time\n",
    "with run_controller(address) as ctl:\n",
    "    joint = get_joints()[2]\n",
    "    joint.enable()\n",
    "    for i in range(10):\n",
    "        joint.go_position(0)\n",
    "        time.sleep(1)\n",
    "        joint.go_position(20)\n",
    "        time.sleep(1)\n",
    "    joint.go_position(0)"
   ]
  },
  {
   "cell_type": "markdown",
   "metadata": {},
   "source": [
    "# Move on Velocity Mode"
   ]
  },
  {
   "cell_type": "code",
   "execution_count": 17,
   "metadata": {},
   "outputs": [],
   "source": [
    "import time\n",
    "with run_controller(address) as ctl:\n",
    "    joints = get_joints()\n",
    "    joints[2].enable()\n",
    "    for i in range(5):\n",
    "        joints[2].go_velocity(20)\n",
    "        time.sleep(3)\n",
    "        joints[2].go_velocity(-20)\n",
    "        time.sleep(3)\n",
    "    j.stop()"
   ]
  },
  {
   "cell_type": "markdown",
   "metadata": {},
   "source": [
    "# Stop all joints"
   ]
  },
  {
   "cell_type": "code",
   "execution_count": 60,
   "metadata": {},
   "outputs": [],
   "source": [
    "with run_controller(address) as ctl:\n",
    "    joints = get_joints()\n",
    "    for j in joints:\n",
    "        j.stop()"
   ]
  }
 ],
 "metadata": {
  "interpreter": {
   "hash": "9b86ab47bdf7e53933534ccb36298242002f2690fa8dd74bb2361e585bf03603"
  },
  "kernelspec": {
   "display_name": "yonh",
   "language": "python",
   "name": "yonh"
  },
  "language_info": {
   "codemirror_mode": {
    "name": "ipython",
    "version": 3
   },
   "file_extension": ".py",
   "mimetype": "text/x-python",
   "name": "python",
   "nbconvert_exporter": "python",
   "pygments_lexer": "ipython3",
   "version": "3.8.10"
  }
 },
 "nbformat": 4,
 "nbformat_minor": 2
}
